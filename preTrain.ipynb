{
 "cells": [
  {
   "cell_type": "code",
   "execution_count": 1,
   "source": [
    "import os\r\n",
    "import numpy as np\r\n",
    "\r\n",
    "fileDir = \"D:/UKB_Liver/20254_2_0_NPY\"\r\n",
    "npList = [os.path.join(fileDir,x) for x in os.listdir(fileDir) if x.endswith(\".npy\")]\r\n",
    "arr = np.load(npList[0])\r\n",
    "\r\n",
    "arr.shape"
   ],
   "outputs": [
    {
     "output_type": "execute_result",
     "data": {
      "text/plain": [
       "(6, 232, 256)"
      ]
     },
     "metadata": {},
     "execution_count": 1
    }
   ],
   "metadata": {}
  },
  {
   "cell_type": "code",
   "execution_count": 8,
   "source": [
    "npList = [x for x in os.listdir(fileDir) if x.endswith(\".npy\")]\r\n",
    "npList = np.array(npList)\r\n",
    "np.random.shuffle(npList)\r\n",
    "\r\n",
    "trainArr = npList[:int(npList.shape[0]*0.8)]\r\n",
    "valArr = npList[int(npList.shape[0]*0.8):int(npList.shape[0]*0.9)]\r\n",
    "testArr = npList[int(npList.shape[0]*0.9):]\r\n",
    "\r\n",
    "np.save(\"trainSet.npy\",trainArr)\r\n",
    "np.save(\"valSet.npy\",valArr)\r\n",
    "np.save(\"testSet.npy\",testArr)"
   ],
   "outputs": [],
   "metadata": {}
  }
 ],
 "metadata": {
  "orig_nbformat": 4,
  "language_info": {
   "name": "python",
   "version": "3.9.5",
   "mimetype": "text/x-python",
   "codemirror_mode": {
    "name": "ipython",
    "version": 3
   },
   "pygments_lexer": "ipython3",
   "nbconvert_exporter": "python",
   "file_extension": ".py"
  },
  "kernelspec": {
   "name": "python3",
   "display_name": "Python 3.9.5 64-bit"
  },
  "interpreter": {
   "hash": "30e818f7e828c199ec1baa2afe47865872748f4708b01b6d066efb8290ba1274"
  }
 },
 "nbformat": 4,
 "nbformat_minor": 2
}